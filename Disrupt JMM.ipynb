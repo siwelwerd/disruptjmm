{
 "cells": [
  {
   "cell_type": "markdown",
   "metadata": {
    "id": "-atiP2NvyXcn"
   },
   "source": [
    "# Introduction"
   ]
  },
  {
   "cell_type": "markdown",
   "metadata": {
    "id": "PIcEUtrkyBVn"
   },
   "source": [
    "This is running python; however, it is also possible to have R code mixed in!  To do so, we load a package.\n",
    "\n",
    "*Note:* You may need to install the package via `pip install rpy2`"
   ]
  },
  {
   "cell_type": "code",
   "execution_count": 1,
   "metadata": {
    "executionInfo": {
     "elapsed": 2157,
     "status": "ok",
     "timestamp": 1657031571422,
     "user": {
      "displayName": "Drew Lewis",
      "userId": "15308425669763178465"
     },
     "user_tz": 240
    },
    "id": "KW2T1cJMwmQv"
   },
   "outputs": [],
   "source": [
    "%load_ext rpy2.ipython"
   ]
  },
  {
   "cell_type": "markdown",
   "metadata": {
    "id": "RBTTnnkjyJm0"
   },
   "source": [
    "To run R code now, insert a line that says \n",
    "\n",
    "```\n",
    "%%R\n",
    "```\n",
    "Then put your R code.\n",
    "\n"
   ]
  },
  {
   "cell_type": "code",
   "execution_count": 2,
   "metadata": {
    "colab": {
     "base_uri": "https://localhost:8080/"
    },
    "executionInfo": {
     "elapsed": 736,
     "status": "ok",
     "timestamp": 1657031622547,
     "user": {
      "displayName": "Drew Lewis",
      "userId": "15308425669763178465"
     },
     "user_tz": 240
    },
    "id": "75QYn7dyxWoT",
    "outputId": "e80b866f-1509-49a4-d1d5-6129a3ad280c"
   },
   "outputs": [
    {
     "name": "stdout",
     "output_type": "stream",
     "text": [
      " [1] 0.0000000 0.1282283 0.2564565 0.3846848 0.5129131 0.6411414 0.7693696\n",
      " [8] 0.8975979 1.0258262 1.1540544 1.2822827 1.4105110 1.5387393 1.6669675\n",
      "[15] 1.7951958 1.9234241 2.0516523 2.1798806 2.3081089 2.4363372 2.5645654\n",
      "[22] 2.6927937 2.8210220 2.9492502 3.0774785 3.2057068 3.3339351 3.4621633\n",
      "[29] 3.5903916 3.7186199 3.8468481 3.9750764 4.1033047 4.2315330 4.3597612\n",
      "[36] 4.4879895 4.6162178 4.7444460 4.8726743 5.0009026 5.1291309 5.2573591\n",
      "[43] 5.3855874 5.5138157 5.6420439 5.7702722 5.8985005 6.0267288 6.1549570\n",
      "[50] 6.2831853\n"
     ]
    }
   ],
   "source": [
    "%%R\n",
    "x <- seq(0, 2*pi, length.out=50)\n",
    "x"
   ]
  },
  {
   "cell_type": "markdown",
   "metadata": {
    "id": "VFUbIAvpxZe7"
   },
   "source": [
    "How do we load JSON data in in python?\n"
   ]
  },
  {
   "cell_type": "code",
   "execution_count": 17,
   "metadata": {
    "id": "TF2flAGewp1S"
   },
   "outputs": [
    {
     "name": "stdout",
     "output_type": "stream",
     "text": [
      "dict_keys(['public_metrics', 'text', 'created_at', 'conversation_id', 'lang', 'possibly_sensitive', 'author_id', 'entities', 'id', 'geo', 'source', 'referenced_tweets', 'attachments'])\n",
      "Anyone feel like looking through the list of invited talks at #JMM2020 and see the # of nonmen, lgbtq, and poc giving these? It will help with my #disruptJMM bit in my talk, but not sure i have time!\n"
     ]
    }
   ],
   "source": [
    "import json\n",
    "import os\n",
    "\n",
    "with open(os.path.join('data','data_1123202897280491520.json'), \"r\") as read_file:\n",
    "    data = json.load(read_file)\n",
    "\n",
    "#data now contains a list, where each list item corresponds to a tweet\n",
    "#The list entries are python dictionaries; let's print out the keys\n",
    "print(data[0].keys())\n",
    "#I see 'text' is a key, presumably the tweet text, so let's see what tweet 0 says\n",
    "print(data[0].get('text'))"
   ]
  },
  {
   "cell_type": "markdown",
   "metadata": {
    "id": "QTYR-sQqyaLR"
   },
   "source": [
    "Let's look at the cleaned CSV file."
   ]
  },
  {
   "cell_type": "code",
   "execution_count": 29,
   "metadata": {},
   "outputs": [],
   "source": [
    "import csv\n",
    "tweets=[]\n",
    "with open(os.path.join('networkData','twitterData_tidy.csv'), \"r\") as csvfile:\n",
    "    reader = csv.DictReader(csvfile)\n",
    "    \n",
    "    for row in reader:\n",
    "        tweets.append(row)\n"
   ]
  },
  {
   "cell_type": "markdown",
   "metadata": {},
   "source": [
    "Let's look at a sample tweet!"
   ]
  },
  {
   "cell_type": "code",
   "execution_count": 30,
   "metadata": {},
   "outputs": [
    {
     "data": {
      "text/plain": [
       "{'': '1',\n",
       " 'tweet_id': '1217856519670288384',\n",
       " 'user_username': 'mathyadriana',\n",
       " 'text': 'Anyone feel like looking through the list of invited talks at #JMM2020 and see the # of nonmen, lgbtq, and poc giving these? It will help with my #disruptJMM bit in my talk, but not sure i have time!',\n",
       " 'created_at': '2020-01-16T17:09:55.000Z',\n",
       " 'conversation_id': '1217856519670288384',\n",
       " 'lang': 'en',\n",
       " 'possibly_sensitive': 'FALSE',\n",
       " 'author_id': '776450766710136832',\n",
       " 'source': 'Twitter for iPhone',\n",
       " 'in_reply_to_user_id': 'NA',\n",
       " 'user_verified': 'FALSE',\n",
       " 'user_profile_image_url': 'https://pbs.twimg.com/profile_images/1267652145991618564/rnpdjctF_normal.jpg',\n",
       " 'user_name': 'Dr. Adriana Salerno Domínguez 🇻🇪',\n",
       " 'user_protected': 'FALSE',\n",
       " 'user_created_at': '2016-09-15T16:01:03.000Z',\n",
       " 'user_location': 'Portland, ME',\n",
       " 'user_description': 'Math prof @BatesCollege. Program Officer (DMS/ANT) @nsf -- views/tweets are my own. Venezuelan, nerd, Jefa. #OnLeaveNotDead #Blacklivesmatter. (She/her)',\n",
       " 'user_url': '',\n",
       " 'user_pinned_tweet_id': 'NA',\n",
       " 'retweet_count': '3',\n",
       " 'like_count': '16',\n",
       " 'quote_count': '0',\n",
       " 'user_tweet_count': '5727',\n",
       " 'user_list_count': '71',\n",
       " 'user_followers_count': '3107',\n",
       " 'user_following_count': '813',\n",
       " 'sourcetweet_type': 'NA',\n",
       " 'sourcetweet_id': 'NA',\n",
       " 'sourcetweet_text': 'NA',\n",
       " 'sourcetweet_lang': 'NA',\n",
       " 'sourcetweet_author_id': 'NA'}"
      ]
     },
     "execution_count": 30,
     "metadata": {},
     "output_type": "execute_result"
    }
   ],
   "source": [
    "tweets[0]"
   ]
  },
  {
   "cell_type": "markdown",
   "metadata": {},
   "source": [
    "How many tweets are there?"
   ]
  },
  {
   "cell_type": "code",
   "execution_count": 31,
   "metadata": {},
   "outputs": [
    {
     "data": {
      "text/plain": [
       "1129"
      ]
     },
     "execution_count": 31,
     "metadata": {},
     "output_type": "execute_result"
    }
   ],
   "source": [
    "len(tweets)"
   ]
  },
  {
   "cell_type": "code",
   "execution_count": null,
   "metadata": {},
   "outputs": [],
   "source": []
  }
 ],
 "metadata": {
  "colab": {
   "authorship_tag": "ABX9TyO7omVfqS4fUPwqwNjaFXFg",
   "name": "Disrupt JMM.ipynb",
   "provenance": [],
   "toc_visible": true
  },
  "kernelspec": {
   "display_name": "Python 3 (ipykernel)",
   "language": "python",
   "name": "python3"
  },
  "language_info": {
   "codemirror_mode": {
    "name": "ipython",
    "version": 3
   },
   "file_extension": ".py",
   "mimetype": "text/x-python",
   "name": "python",
   "nbconvert_exporter": "python",
   "pygments_lexer": "ipython3",
   "version": "3.8.2"
  }
 },
 "nbformat": 4,
 "nbformat_minor": 1
}
